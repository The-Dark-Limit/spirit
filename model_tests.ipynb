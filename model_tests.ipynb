{
 "cells": [
  {
   "cell_type": "code",
   "id": "initial_id",
   "metadata": {
    "collapsed": true,
    "ExecuteTime": {
     "end_time": "2024-10-28T07:20:28.578473Z",
     "start_time": "2024-10-28T07:20:26.207395Z"
    }
   },
   "source": [
    "from transformers import pipeline\n",
    "\n",
    "messages = [\n",
    "  {\"role\": \"system\", \"content\": \"Ты программист.\"},\n",
    "  {\"role\": \"user\", \"content\": \"Расскажи мне про свою жизнь на суше и твою любовь еблан?\"},\n",
    "]\n",
    "model_names = (\"DiTy/gemma-2-9b-it-russian-function-calling-GGUF\", \"CohereForAI/aya-23-8B\", \"sambanovasystems/SambaLingo-Russian-Chat\")"
   ],
   "outputs": [
    {
     "name": "stderr",
     "output_type": "stream",
     "text": [
      "/home/nickihell/.virtualenvs/spirit/lib/python3.11/site-packages/tqdm/auto.py:21: TqdmWarning: IProgress not found. Please update jupyter and ipywidgets. See https://ipywidgets.readthedocs.io/en/stable/user_install.html\n",
      "  from .autonotebook import tqdm as notebook_tqdm\n"
     ]
    }
   ],
   "execution_count": 1
  },
  {
   "metadata": {
    "jupyter": {
     "is_executing": true
    },
    "ExecuteTime": {
     "start_time": "2024-10-28T07:20:28.587338Z"
    }
   },
   "cell_type": "code",
   "source": [
    "for model in model_names:\n",
    "  print(f'Model started: {model}\\n')\n",
    "  pipe = pipeline(\"text-generation\", model=model, max_length=512, truncation=True)\n",
    "  print(f'Model: {model} result\\n')\n",
    "  print(pipe(messages))\n",
    "  print('\\n\\n\\n')"
   ],
   "id": "e7d3ce168258ca9d",
   "outputs": [
    {
     "name": "stdout",
     "output_type": "stream",
     "text": [
      "Model started: DiTy/gemma-2-9b-it-russian-function-calling-GGUF\n",
      "\n"
     ]
    },
    {
     "name": "stderr",
     "output_type": "stream",
     "text": [
      "Loading checkpoint shards:  25%|██▌       | 1/4 [00:05<00:16,  5.38s/it]"
     ]
    }
   ],
   "execution_count": null
  }
 ],
 "metadata": {
  "kernelspec": {
   "display_name": "Python 3",
   "language": "python",
   "name": "python3"
  },
  "language_info": {
   "codemirror_mode": {
    "name": "ipython",
    "version": 2
   },
   "file_extension": ".py",
   "mimetype": "text/x-python",
   "name": "python",
   "nbconvert_exporter": "python",
   "pygments_lexer": "ipython2",
   "version": "2.7.6"
  }
 },
 "nbformat": 4,
 "nbformat_minor": 5
}
